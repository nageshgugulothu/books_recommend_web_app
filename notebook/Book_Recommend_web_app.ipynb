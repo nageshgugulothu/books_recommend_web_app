{
 "cells": [
  {
   "cell_type": "markdown",
   "id": "5df4548d",
   "metadata": {},
   "source": [
    "\n",
    "# <p style=\"padding:10px;background-color:#ffff2b;margin:10;color:#0000FF;font-family:newtimeroman;font-size:100%;text-align:center;border-radius: 10px 10px;overflow:hidden;font-weight:30\">Book Recommender System</p>"
   ]
  },
  {
   "cell_type": "code",
   "execution_count": 1,
   "id": "67350fb6",
   "metadata": {},
   "outputs": [],
   "source": [
    "# import required libraries\n",
    "import pandas as pd\n",
    "import numpy as np\n",
    "import matplotlib.pyplot as plt"
   ]
  },
  {
   "cell_type": "code",
   "execution_count": 2,
   "id": "e6c7c56f",
   "metadata": {},
   "outputs": [],
   "source": [
    "import warnings\n",
    "warnings.filterwarnings('ignore')"
   ]
  },
  {
   "cell_type": "code",
   "execution_count": 3,
   "id": "6ae06519",
   "metadata": {},
   "outputs": [],
   "source": [
    "# from SQL-SERVER DATABASE to load the data\n",
    "import pyodbc\n",
    "\n",
    "# Replace with your SQL Server details\n",
    "server = 'NAGESH\\SQLEXPRESS'\n",
    "database = 'ML_Projects_db'\n",
    "username = 'sa'\n",
    "password = 'nagesh@sharvan'\n",
    "\n",
    "# Connect to SQL Server\n",
    "connection_string = f'DRIVER={{SQL Server}};SERVER={server};DATABASE={database};UID={username};PWD={password};'\n",
    "connection = pyodbc.connect(connection_string)\n"
   ]
  },
  {
   "cell_type": "code",
   "execution_count": 4,
   "id": "b48c7ebe",
   "metadata": {},
   "outputs": [],
   "source": [
    "# Execute SQL Query\n",
    "query = 'SELECT * FROM sys.tables'\n",
    "data = pd.read_sql(query, connection)"
   ]
  },
  {
   "cell_type": "code",
   "execution_count": 5,
   "id": "364fd6f8",
   "metadata": {},
   "outputs": [
    {
     "data": {
      "text/html": [
       "<div>\n",
       "<style scoped>\n",
       "    .dataframe tbody tr th:only-of-type {\n",
       "        vertical-align: middle;\n",
       "    }\n",
       "\n",
       "    .dataframe tbody tr th {\n",
       "        vertical-align: top;\n",
       "    }\n",
       "\n",
       "    .dataframe thead th {\n",
       "        text-align: right;\n",
       "    }\n",
       "</style>\n",
       "<table border=\"1\" class=\"dataframe\">\n",
       "  <thead>\n",
       "    <tr style=\"text-align: right;\">\n",
       "      <th></th>\n",
       "      <th>name</th>\n",
       "      <th>object_id</th>\n",
       "      <th>principal_id</th>\n",
       "      <th>schema_id</th>\n",
       "      <th>parent_object_id</th>\n",
       "      <th>type</th>\n",
       "      <th>type_desc</th>\n",
       "      <th>create_date</th>\n",
       "      <th>modify_date</th>\n",
       "      <th>is_ms_shipped</th>\n",
       "      <th>...</th>\n",
       "      <th>history_retention_period_unit_desc</th>\n",
       "      <th>is_node</th>\n",
       "      <th>is_edge</th>\n",
       "      <th>data_retention_period</th>\n",
       "      <th>data_retention_period_unit</th>\n",
       "      <th>data_retention_period_unit_desc</th>\n",
       "      <th>ledger_type</th>\n",
       "      <th>ledger_type_desc</th>\n",
       "      <th>ledger_view_id</th>\n",
       "      <th>is_dropped_ledger_table</th>\n",
       "    </tr>\n",
       "  </thead>\n",
       "  <tbody>\n",
       "    <tr>\n",
       "      <th>0</th>\n",
       "      <td>books_data</td>\n",
       "      <td>1269579561</td>\n",
       "      <td>None</td>\n",
       "      <td>1</td>\n",
       "      <td>0</td>\n",
       "      <td>U</td>\n",
       "      <td>USER_TABLE</td>\n",
       "      <td>2024-01-04 16:58:56.310</td>\n",
       "      <td>2024-01-04 16:58:56.310</td>\n",
       "      <td>False</td>\n",
       "      <td>...</td>\n",
       "      <td>None</td>\n",
       "      <td>False</td>\n",
       "      <td>False</td>\n",
       "      <td>-1</td>\n",
       "      <td>-1</td>\n",
       "      <td>INFINITE</td>\n",
       "      <td>0</td>\n",
       "      <td>NON_LEDGER_TABLE</td>\n",
       "      <td>None</td>\n",
       "      <td>False</td>\n",
       "    </tr>\n",
       "  </tbody>\n",
       "</table>\n",
       "<p>1 rows × 48 columns</p>\n",
       "</div>"
      ],
      "text/plain": [
       "         name   object_id principal_id  schema_id  parent_object_id type   \n",
       "0  books_data  1269579561         None          1                 0   U   \\\n",
       "\n",
       "    type_desc             create_date             modify_date  is_ms_shipped   \n",
       "0  USER_TABLE 2024-01-04 16:58:56.310 2024-01-04 16:58:56.310          False  \\\n",
       "\n",
       "   ...  history_retention_period_unit_desc  is_node  is_edge   \n",
       "0  ...                                None    False    False  \\\n",
       "\n",
       "  data_retention_period  data_retention_period_unit   \n",
       "0                    -1                          -1  \\\n",
       "\n",
       "   data_retention_period_unit_desc  ledger_type  ledger_type_desc   \n",
       "0                         INFINITE            0  NON_LEDGER_TABLE  \\\n",
       "\n",
       "   ledger_view_id  is_dropped_ledger_table  \n",
       "0            None                    False  \n",
       "\n",
       "[1 rows x 48 columns]"
      ]
     },
     "execution_count": 5,
     "metadata": {},
     "output_type": "execute_result"
    }
   ],
   "source": [
    "data"
   ]
  },
  {
   "cell_type": "code",
   "execution_count": 6,
   "id": "1491b3dd",
   "metadata": {},
   "outputs": [],
   "source": [
    "# Execute SQL Query\n",
    "\n",
    "# table = 'books_data'    # Change this to the desired table name\n",
    "query = 'SELECT * FROM books_data'\n",
    "data = pd.read_sql(query, connection)"
   ]
  },
  {
   "cell_type": "code",
   "execution_count": 7,
   "id": "cf0d67f7",
   "metadata": {},
   "outputs": [
    {
     "data": {
      "text/html": [
       "<div>\n",
       "<style scoped>\n",
       "    .dataframe tbody tr th:only-of-type {\n",
       "        vertical-align: middle;\n",
       "    }\n",
       "\n",
       "    .dataframe tbody tr th {\n",
       "        vertical-align: top;\n",
       "    }\n",
       "\n",
       "    .dataframe thead th {\n",
       "        text-align: right;\n",
       "    }\n",
       "</style>\n",
       "<table border=\"1\" class=\"dataframe\">\n",
       "  <thead>\n",
       "    <tr style=\"text-align: right;\">\n",
       "      <th></th>\n",
       "      <th>Title</th>\n",
       "      <th>Author</th>\n",
       "      <th>Genre</th>\n",
       "      <th>SubGenre</th>\n",
       "      <th>Height</th>\n",
       "      <th>Publisher</th>\n",
       "    </tr>\n",
       "  </thead>\n",
       "  <tbody>\n",
       "    <tr>\n",
       "      <th>0</th>\n",
       "      <td>Fundamentals of Wavelets</td>\n",
       "      <td>Goswami, Jaideva</td>\n",
       "      <td>tech</td>\n",
       "      <td>signal_processing</td>\n",
       "      <td>228</td>\n",
       "      <td>Wiley</td>\n",
       "    </tr>\n",
       "    <tr>\n",
       "      <th>1</th>\n",
       "      <td>Data Smart</td>\n",
       "      <td>Foreman, John</td>\n",
       "      <td>tech</td>\n",
       "      <td>data_science</td>\n",
       "      <td>235</td>\n",
       "      <td>Wiley</td>\n",
       "    </tr>\n",
       "    <tr>\n",
       "      <th>2</th>\n",
       "      <td>God Created the Integers</td>\n",
       "      <td>Hawking, Stephen</td>\n",
       "      <td>tech</td>\n",
       "      <td>mathematics</td>\n",
       "      <td>197</td>\n",
       "      <td>Penguin</td>\n",
       "    </tr>\n",
       "    <tr>\n",
       "      <th>3</th>\n",
       "      <td>Superfreakonomics</td>\n",
       "      <td>Dubner, Stephen</td>\n",
       "      <td>science</td>\n",
       "      <td>economics</td>\n",
       "      <td>179</td>\n",
       "      <td>HarperCollins</td>\n",
       "    </tr>\n",
       "    <tr>\n",
       "      <th>4</th>\n",
       "      <td>Orientalism</td>\n",
       "      <td>Said, Edward</td>\n",
       "      <td>nonfiction</td>\n",
       "      <td>history</td>\n",
       "      <td>197</td>\n",
       "      <td>Penguin</td>\n",
       "    </tr>\n",
       "    <tr>\n",
       "      <th>...</th>\n",
       "      <td>...</td>\n",
       "      <td>...</td>\n",
       "      <td>...</td>\n",
       "      <td>...</td>\n",
       "      <td>...</td>\n",
       "      <td>...</td>\n",
       "    </tr>\n",
       "    <tr>\n",
       "      <th>206</th>\n",
       "      <td>Structure and Randomness</td>\n",
       "      <td>Tao, Terence</td>\n",
       "      <td>science</td>\n",
       "      <td>mathematics</td>\n",
       "      <td>252</td>\n",
       "      <td>None</td>\n",
       "    </tr>\n",
       "    <tr>\n",
       "      <th>207</th>\n",
       "      <td>Image Processing with MATLAB</td>\n",
       "      <td>Eddins, Steve</td>\n",
       "      <td>tech</td>\n",
       "      <td>signal_processing</td>\n",
       "      <td>241</td>\n",
       "      <td>None</td>\n",
       "    </tr>\n",
       "    <tr>\n",
       "      <th>208</th>\n",
       "      <td>Animal Farm</td>\n",
       "      <td>Orwell, George</td>\n",
       "      <td>fiction</td>\n",
       "      <td>classic</td>\n",
       "      <td>180</td>\n",
       "      <td>None</td>\n",
       "    </tr>\n",
       "    <tr>\n",
       "      <th>209</th>\n",
       "      <td>Idiot, The</td>\n",
       "      <td>Dostoevsky, Fyodor</td>\n",
       "      <td>fiction</td>\n",
       "      <td>classic</td>\n",
       "      <td>197</td>\n",
       "      <td>None</td>\n",
       "    </tr>\n",
       "    <tr>\n",
       "      <th>210</th>\n",
       "      <td>Christmas Carol, A</td>\n",
       "      <td>Dickens, Charles</td>\n",
       "      <td>fiction</td>\n",
       "      <td>classic</td>\n",
       "      <td>196</td>\n",
       "      <td>None</td>\n",
       "    </tr>\n",
       "  </tbody>\n",
       "</table>\n",
       "<p>211 rows × 6 columns</p>\n",
       "</div>"
      ],
      "text/plain": [
       "                            Title              Author       Genre   \n",
       "0        Fundamentals of Wavelets    Goswami, Jaideva        tech  \\\n",
       "1                      Data Smart       Foreman, John        tech   \n",
       "2        God Created the Integers    Hawking, Stephen        tech   \n",
       "3               Superfreakonomics     Dubner, Stephen     science   \n",
       "4                     Orientalism        Said, Edward  nonfiction   \n",
       "..                            ...                 ...         ...   \n",
       "206      Structure and Randomness        Tao, Terence     science   \n",
       "207  Image Processing with MATLAB       Eddins, Steve        tech   \n",
       "208                   Animal Farm      Orwell, George     fiction   \n",
       "209                    Idiot, The  Dostoevsky, Fyodor     fiction   \n",
       "210            Christmas Carol, A    Dickens, Charles     fiction   \n",
       "\n",
       "              SubGenre  Height      Publisher  \n",
       "0    signal_processing     228          Wiley  \n",
       "1         data_science     235          Wiley  \n",
       "2          mathematics     197        Penguin  \n",
       "3            economics     179  HarperCollins  \n",
       "4              history     197        Penguin  \n",
       "..                 ...     ...            ...  \n",
       "206        mathematics     252           None  \n",
       "207  signal_processing     241           None  \n",
       "208            classic     180           None  \n",
       "209            classic     197           None  \n",
       "210            classic     196           None  \n",
       "\n",
       "[211 rows x 6 columns]"
      ]
     },
     "execution_count": 7,
     "metadata": {},
     "output_type": "execute_result"
    }
   ],
   "source": [
    "data"
   ]
  },
  {
   "cell_type": "code",
   "execution_count": 8,
   "id": "087deada",
   "metadata": {},
   "outputs": [],
   "source": [
    "# copy the data from original data\n",
    "df = data.copy()"
   ]
  },
  {
   "cell_type": "code",
   "execution_count": 9,
   "id": "a9650746",
   "metadata": {},
   "outputs": [
    {
     "data": {
      "text/html": [
       "<div>\n",
       "<style scoped>\n",
       "    .dataframe tbody tr th:only-of-type {\n",
       "        vertical-align: middle;\n",
       "    }\n",
       "\n",
       "    .dataframe tbody tr th {\n",
       "        vertical-align: top;\n",
       "    }\n",
       "\n",
       "    .dataframe thead th {\n",
       "        text-align: right;\n",
       "    }\n",
       "</style>\n",
       "<table border=\"1\" class=\"dataframe\">\n",
       "  <thead>\n",
       "    <tr style=\"text-align: right;\">\n",
       "      <th></th>\n",
       "      <th>Title</th>\n",
       "      <th>Author</th>\n",
       "      <th>Genre</th>\n",
       "      <th>SubGenre</th>\n",
       "      <th>Height</th>\n",
       "      <th>Publisher</th>\n",
       "    </tr>\n",
       "  </thead>\n",
       "  <tbody>\n",
       "    <tr>\n",
       "      <th>0</th>\n",
       "      <td>Fundamentals of Wavelets</td>\n",
       "      <td>Goswami, Jaideva</td>\n",
       "      <td>tech</td>\n",
       "      <td>signal_processing</td>\n",
       "      <td>228</td>\n",
       "      <td>Wiley</td>\n",
       "    </tr>\n",
       "    <tr>\n",
       "      <th>1</th>\n",
       "      <td>Data Smart</td>\n",
       "      <td>Foreman, John</td>\n",
       "      <td>tech</td>\n",
       "      <td>data_science</td>\n",
       "      <td>235</td>\n",
       "      <td>Wiley</td>\n",
       "    </tr>\n",
       "    <tr>\n",
       "      <th>2</th>\n",
       "      <td>God Created the Integers</td>\n",
       "      <td>Hawking, Stephen</td>\n",
       "      <td>tech</td>\n",
       "      <td>mathematics</td>\n",
       "      <td>197</td>\n",
       "      <td>Penguin</td>\n",
       "    </tr>\n",
       "    <tr>\n",
       "      <th>3</th>\n",
       "      <td>Superfreakonomics</td>\n",
       "      <td>Dubner, Stephen</td>\n",
       "      <td>science</td>\n",
       "      <td>economics</td>\n",
       "      <td>179</td>\n",
       "      <td>HarperCollins</td>\n",
       "    </tr>\n",
       "    <tr>\n",
       "      <th>4</th>\n",
       "      <td>Orientalism</td>\n",
       "      <td>Said, Edward</td>\n",
       "      <td>nonfiction</td>\n",
       "      <td>history</td>\n",
       "      <td>197</td>\n",
       "      <td>Penguin</td>\n",
       "    </tr>\n",
       "  </tbody>\n",
       "</table>\n",
       "</div>"
      ],
      "text/plain": [
       "                      Title            Author       Genre           SubGenre   \n",
       "0  Fundamentals of Wavelets  Goswami, Jaideva        tech  signal_processing  \\\n",
       "1                Data Smart     Foreman, John        tech       data_science   \n",
       "2  God Created the Integers  Hawking, Stephen        tech        mathematics   \n",
       "3         Superfreakonomics   Dubner, Stephen     science          economics   \n",
       "4               Orientalism      Said, Edward  nonfiction            history   \n",
       "\n",
       "   Height      Publisher  \n",
       "0     228          Wiley  \n",
       "1     235          Wiley  \n",
       "2     197        Penguin  \n",
       "3     179  HarperCollins  \n",
       "4     197        Penguin  "
      ]
     },
     "execution_count": 9,
     "metadata": {},
     "output_type": "execute_result"
    }
   ],
   "source": [
    "df.head()"
   ]
  },
  {
   "cell_type": "code",
   "execution_count": 10,
   "id": "cd7d2a90",
   "metadata": {},
   "outputs": [],
   "source": [
    "df.drop('Height', axis=1, inplace=True)"
   ]
  },
  {
   "cell_type": "code",
   "execution_count": 11,
   "id": "d08e8aaf",
   "metadata": {},
   "outputs": [
    {
     "data": {
      "text/html": [
       "<div>\n",
       "<style scoped>\n",
       "    .dataframe tbody tr th:only-of-type {\n",
       "        vertical-align: middle;\n",
       "    }\n",
       "\n",
       "    .dataframe tbody tr th {\n",
       "        vertical-align: top;\n",
       "    }\n",
       "\n",
       "    .dataframe thead th {\n",
       "        text-align: right;\n",
       "    }\n",
       "</style>\n",
       "<table border=\"1\" class=\"dataframe\">\n",
       "  <thead>\n",
       "    <tr style=\"text-align: right;\">\n",
       "      <th></th>\n",
       "      <th>Title</th>\n",
       "      <th>Author</th>\n",
       "      <th>Genre</th>\n",
       "      <th>SubGenre</th>\n",
       "      <th>Publisher</th>\n",
       "    </tr>\n",
       "  </thead>\n",
       "  <tbody>\n",
       "    <tr>\n",
       "      <th>0</th>\n",
       "      <td>Fundamentals of Wavelets</td>\n",
       "      <td>Goswami, Jaideva</td>\n",
       "      <td>tech</td>\n",
       "      <td>signal_processing</td>\n",
       "      <td>Wiley</td>\n",
       "    </tr>\n",
       "    <tr>\n",
       "      <th>1</th>\n",
       "      <td>Data Smart</td>\n",
       "      <td>Foreman, John</td>\n",
       "      <td>tech</td>\n",
       "      <td>data_science</td>\n",
       "      <td>Wiley</td>\n",
       "    </tr>\n",
       "  </tbody>\n",
       "</table>\n",
       "</div>"
      ],
      "text/plain": [
       "                      Title            Author Genre           SubGenre   \n",
       "0  Fundamentals of Wavelets  Goswami, Jaideva  tech  signal_processing  \\\n",
       "1                Data Smart     Foreman, John  tech       data_science   \n",
       "\n",
       "  Publisher  \n",
       "0     Wiley  \n",
       "1     Wiley  "
      ]
     },
     "execution_count": 11,
     "metadata": {},
     "output_type": "execute_result"
    }
   ],
   "source": [
    "df.head(2)"
   ]
  },
  {
   "cell_type": "code",
   "execution_count": 12,
   "id": "e228b2b0",
   "metadata": {},
   "outputs": [
    {
     "data": {
      "text/plain": [
       "Title         0\n",
       "Author       24\n",
       "Genre         0\n",
       "SubGenre      0\n",
       "Publisher    96\n",
       "dtype: int64"
      ]
     },
     "execution_count": 12,
     "metadata": {},
     "output_type": "execute_result"
    }
   ],
   "source": [
    "df.isnull().sum()"
   ]
  },
  {
   "cell_type": "code",
   "execution_count": 13,
   "id": "89ca63d5",
   "metadata": {},
   "outputs": [],
   "source": [
    "df.dropna(inplace=True)"
   ]
  },
  {
   "cell_type": "code",
   "execution_count": 14,
   "id": "e339a078",
   "metadata": {},
   "outputs": [
    {
     "data": {
      "text/plain": [
       "Title        0\n",
       "Author       0\n",
       "Genre        0\n",
       "SubGenre     0\n",
       "Publisher    0\n",
       "dtype: int64"
      ]
     },
     "execution_count": 14,
     "metadata": {},
     "output_type": "execute_result"
    }
   ],
   "source": [
    "df.isnull().sum()"
   ]
  },
  {
   "cell_type": "code",
   "execution_count": 15,
   "id": "4b0dab73",
   "metadata": {},
   "outputs": [],
   "source": [
    "# Combine relevant text columns into a single 'text' column\n",
    "df['tags'] = df['Author'] + ' ' + df['Genre'] + ' ' + df['SubGenre'] + ' ' + df['Publisher']"
   ]
  },
  {
   "cell_type": "code",
   "execution_count": 16,
   "id": "f7a4fa57",
   "metadata": {},
   "outputs": [
    {
     "data": {
      "text/html": [
       "<div>\n",
       "<style scoped>\n",
       "    .dataframe tbody tr th:only-of-type {\n",
       "        vertical-align: middle;\n",
       "    }\n",
       "\n",
       "    .dataframe tbody tr th {\n",
       "        vertical-align: top;\n",
       "    }\n",
       "\n",
       "    .dataframe thead th {\n",
       "        text-align: right;\n",
       "    }\n",
       "</style>\n",
       "<table border=\"1\" class=\"dataframe\">\n",
       "  <thead>\n",
       "    <tr style=\"text-align: right;\">\n",
       "      <th></th>\n",
       "      <th>Title</th>\n",
       "      <th>Author</th>\n",
       "      <th>Genre</th>\n",
       "      <th>SubGenre</th>\n",
       "      <th>Publisher</th>\n",
       "      <th>tags</th>\n",
       "    </tr>\n",
       "  </thead>\n",
       "  <tbody>\n",
       "    <tr>\n",
       "      <th>0</th>\n",
       "      <td>Fundamentals of Wavelets</td>\n",
       "      <td>Goswami, Jaideva</td>\n",
       "      <td>tech</td>\n",
       "      <td>signal_processing</td>\n",
       "      <td>Wiley</td>\n",
       "      <td>Goswami, Jaideva tech signal_processing Wiley</td>\n",
       "    </tr>\n",
       "    <tr>\n",
       "      <th>1</th>\n",
       "      <td>Data Smart</td>\n",
       "      <td>Foreman, John</td>\n",
       "      <td>tech</td>\n",
       "      <td>data_science</td>\n",
       "      <td>Wiley</td>\n",
       "      <td>Foreman, John tech data_science Wiley</td>\n",
       "    </tr>\n",
       "    <tr>\n",
       "      <th>2</th>\n",
       "      <td>God Created the Integers</td>\n",
       "      <td>Hawking, Stephen</td>\n",
       "      <td>tech</td>\n",
       "      <td>mathematics</td>\n",
       "      <td>Penguin</td>\n",
       "      <td>Hawking, Stephen tech mathematics Penguin</td>\n",
       "    </tr>\n",
       "    <tr>\n",
       "      <th>3</th>\n",
       "      <td>Superfreakonomics</td>\n",
       "      <td>Dubner, Stephen</td>\n",
       "      <td>science</td>\n",
       "      <td>economics</td>\n",
       "      <td>HarperCollins</td>\n",
       "      <td>Dubner, Stephen science economics HarperCollins</td>\n",
       "    </tr>\n",
       "    <tr>\n",
       "      <th>4</th>\n",
       "      <td>Orientalism</td>\n",
       "      <td>Said, Edward</td>\n",
       "      <td>nonfiction</td>\n",
       "      <td>history</td>\n",
       "      <td>Penguin</td>\n",
       "      <td>Said, Edward nonfiction history Penguin</td>\n",
       "    </tr>\n",
       "  </tbody>\n",
       "</table>\n",
       "</div>"
      ],
      "text/plain": [
       "                      Title            Author       Genre           SubGenre   \n",
       "0  Fundamentals of Wavelets  Goswami, Jaideva        tech  signal_processing  \\\n",
       "1                Data Smart     Foreman, John        tech       data_science   \n",
       "2  God Created the Integers  Hawking, Stephen        tech        mathematics   \n",
       "3         Superfreakonomics   Dubner, Stephen     science          economics   \n",
       "4               Orientalism      Said, Edward  nonfiction            history   \n",
       "\n",
       "       Publisher                                             tags  \n",
       "0          Wiley    Goswami, Jaideva tech signal_processing Wiley  \n",
       "1          Wiley            Foreman, John tech data_science Wiley  \n",
       "2        Penguin        Hawking, Stephen tech mathematics Penguin  \n",
       "3  HarperCollins  Dubner, Stephen science economics HarperCollins  \n",
       "4        Penguin          Said, Edward nonfiction history Penguin  "
      ]
     },
     "execution_count": 16,
     "metadata": {},
     "output_type": "execute_result"
    }
   ],
   "source": [
    "df.head()"
   ]
  },
  {
   "cell_type": "code",
   "execution_count": 17,
   "id": "0044e946",
   "metadata": {},
   "outputs": [
    {
     "data": {
      "text/plain": [
       "'Goswami, Jaideva tech signal_processing Wiley'"
      ]
     },
     "execution_count": 17,
     "metadata": {},
     "output_type": "execute_result"
    }
   ],
   "source": [
    "df['tags'][0]"
   ]
  },
  {
   "cell_type": "code",
   "execution_count": 18,
   "id": "109dbaff",
   "metadata": {},
   "outputs": [
    {
     "data": {
      "text/plain": [
       "0          goswami, jaideva tech signal_processing wiley\n",
       "1                  foreman, john tech data_science wiley\n",
       "2              hawking, stephen tech mathematics penguin\n",
       "3        dubner, stephen science economics harpercollins\n",
       "4                said, edward nonfiction history penguin\n",
       "                             ...                        \n",
       "114              sen, amartya science economics springer\n",
       "115    huntington, samuel nonfiction history simon&sc...\n",
       "116          capra, fritjof nonfiction anthology fontana\n",
       "117          bach, richard nonfiction autobiography dell\n",
       "119                  braithwaite fiction classic penguin\n",
       "Name: tags, Length: 112, dtype: object"
      ]
     },
     "execution_count": 18,
     "metadata": {},
     "output_type": "execute_result"
    }
   ],
   "source": [
    "df['tags'].apply(lambda x : x.lower())"
   ]
  },
  {
   "cell_type": "code",
   "execution_count": 19,
   "id": "402c5659",
   "metadata": {},
   "outputs": [],
   "source": [
    "df['tags'] = df['tags'].apply(lambda x : x.lower())"
   ]
  },
  {
   "cell_type": "code",
   "execution_count": 20,
   "id": "32706673",
   "metadata": {},
   "outputs": [
    {
     "data": {
      "text/html": [
       "<div>\n",
       "<style scoped>\n",
       "    .dataframe tbody tr th:only-of-type {\n",
       "        vertical-align: middle;\n",
       "    }\n",
       "\n",
       "    .dataframe tbody tr th {\n",
       "        vertical-align: top;\n",
       "    }\n",
       "\n",
       "    .dataframe thead th {\n",
       "        text-align: right;\n",
       "    }\n",
       "</style>\n",
       "<table border=\"1\" class=\"dataframe\">\n",
       "  <thead>\n",
       "    <tr style=\"text-align: right;\">\n",
       "      <th></th>\n",
       "      <th>Title</th>\n",
       "      <th>Author</th>\n",
       "      <th>Genre</th>\n",
       "      <th>SubGenre</th>\n",
       "      <th>Publisher</th>\n",
       "      <th>tags</th>\n",
       "    </tr>\n",
       "  </thead>\n",
       "  <tbody>\n",
       "    <tr>\n",
       "      <th>0</th>\n",
       "      <td>Fundamentals of Wavelets</td>\n",
       "      <td>Goswami, Jaideva</td>\n",
       "      <td>tech</td>\n",
       "      <td>signal_processing</td>\n",
       "      <td>Wiley</td>\n",
       "      <td>goswami, jaideva tech signal_processing wiley</td>\n",
       "    </tr>\n",
       "    <tr>\n",
       "      <th>1</th>\n",
       "      <td>Data Smart</td>\n",
       "      <td>Foreman, John</td>\n",
       "      <td>tech</td>\n",
       "      <td>data_science</td>\n",
       "      <td>Wiley</td>\n",
       "      <td>foreman, john tech data_science wiley</td>\n",
       "    </tr>\n",
       "    <tr>\n",
       "      <th>2</th>\n",
       "      <td>God Created the Integers</td>\n",
       "      <td>Hawking, Stephen</td>\n",
       "      <td>tech</td>\n",
       "      <td>mathematics</td>\n",
       "      <td>Penguin</td>\n",
       "      <td>hawking, stephen tech mathematics penguin</td>\n",
       "    </tr>\n",
       "  </tbody>\n",
       "</table>\n",
       "</div>"
      ],
      "text/plain": [
       "                      Title            Author Genre           SubGenre   \n",
       "0  Fundamentals of Wavelets  Goswami, Jaideva  tech  signal_processing  \\\n",
       "1                Data Smart     Foreman, John  tech       data_science   \n",
       "2  God Created the Integers  Hawking, Stephen  tech        mathematics   \n",
       "\n",
       "  Publisher                                           tags  \n",
       "0     Wiley  goswami, jaideva tech signal_processing wiley  \n",
       "1     Wiley          foreman, john tech data_science wiley  \n",
       "2   Penguin      hawking, stephen tech mathematics penguin  "
      ]
     },
     "execution_count": 20,
     "metadata": {},
     "output_type": "execute_result"
    }
   ],
   "source": [
    "df.head(3)"
   ]
  },
  {
   "cell_type": "code",
   "execution_count": 21,
   "id": "93edb0dc",
   "metadata": {},
   "outputs": [],
   "source": [
    "# df.to_csv('recommend_book.csv', index=False)"
   ]
  },
  {
   "cell_type": "code",
   "execution_count": 22,
   "id": "256adf71",
   "metadata": {},
   "outputs": [
    {
     "data": {
      "text/plain": [
       "'foreman, john tech data_science wiley'"
      ]
     },
     "execution_count": 22,
     "metadata": {},
     "output_type": "execute_result"
    }
   ],
   "source": [
    "df['tags'][1]"
   ]
  },
  {
   "cell_type": "code",
   "execution_count": 23,
   "id": "34ea1080",
   "metadata": {},
   "outputs": [],
   "source": [
    "from sklearn.feature_extraction.text import CountVectorizer\n",
    "cv = CountVectorizer(max_features=5000, stop_words=\"english\")"
   ]
  },
  {
   "cell_type": "code",
   "execution_count": 24,
   "id": "50b40927",
   "metadata": {},
   "outputs": [],
   "source": [
    "vectors = cv.fit_transform(df['tags']).toarray()"
   ]
  },
  {
   "cell_type": "code",
   "execution_count": 25,
   "id": "8409a5ae",
   "metadata": {},
   "outputs": [
    {
     "data": {
      "text/plain": [
       "array([[0, 0, 0, ..., 0, 0, 0],\n",
       "       [0, 0, 0, ..., 0, 0, 0],\n",
       "       [0, 0, 0, ..., 0, 0, 0],\n",
       "       ...,\n",
       "       [0, 0, 0, ..., 0, 0, 0],\n",
       "       [0, 0, 0, ..., 0, 0, 0],\n",
       "       [0, 0, 0, ..., 0, 0, 0]], dtype=int64)"
      ]
     },
     "execution_count": 25,
     "metadata": {},
     "output_type": "execute_result"
    }
   ],
   "source": [
    "vectors"
   ]
  },
  {
   "cell_type": "code",
   "execution_count": 26,
   "id": "1d72a438",
   "metadata": {},
   "outputs": [
    {
     "data": {
      "text/plain": [
       "array([0, 0, 0, 0, 0, 0, 0, 0, 0, 0, 0, 0, 0, 0, 0, 0, 0, 0, 0, 0, 0, 0,\n",
       "       0, 0, 0, 0, 0, 0, 0, 0, 0, 0, 0, 0, 0, 0, 0, 0, 0, 0, 0, 0, 0, 0,\n",
       "       0, 0, 0, 0, 0, 0, 0, 0, 0, 0, 0, 0, 0, 0, 0, 0, 0, 0, 0, 0, 0, 0,\n",
       "       0, 0, 0, 0, 0, 0, 0, 0, 0, 0, 0, 0, 1, 0, 0, 0, 0, 0, 0, 0, 0, 0,\n",
       "       0, 0, 0, 0, 0, 0, 0, 0, 0, 0, 0, 0, 0, 1, 0, 0, 0, 0, 0, 0, 0, 0,\n",
       "       0, 0, 0, 0, 0, 0, 0, 0, 0, 0, 0, 0, 0, 0, 0, 0, 0, 0, 0, 0, 0, 0,\n",
       "       0, 0, 0, 0, 0, 0, 0, 0, 0, 0, 0, 0, 0, 0, 0, 0, 0, 0, 0, 0, 0, 0,\n",
       "       0, 0, 0, 0, 0, 0, 0, 0, 0, 0, 0, 0, 0, 0, 0, 0, 0, 0, 0, 0, 1, 0,\n",
       "       0, 0, 0, 0, 0, 0, 0, 0, 0, 0, 0, 0, 1, 0, 0, 0, 0, 0, 0, 0, 0, 0,\n",
       "       0, 0, 0, 0, 0, 0, 0, 0, 1, 0, 0, 0], dtype=int64)"
      ]
     },
     "execution_count": 26,
     "metadata": {},
     "output_type": "execute_result"
    }
   ],
   "source": [
    "vectors[0]"
   ]
  },
  {
   "cell_type": "code",
   "execution_count": 27,
   "id": "6651be8f",
   "metadata": {},
   "outputs": [],
   "source": [
    "# !pip3 install --upgrade scikit-learn"
   ]
  },
  {
   "cell_type": "code",
   "execution_count": 28,
   "id": "653d5576",
   "metadata": {},
   "outputs": [
    {
     "data": {
      "text/plain": [
       "<bound method CountVectorizer.get_feature_names_out of CountVectorizer(max_features=5000, stop_words='english')>"
      ]
     },
     "execution_count": 28,
     "metadata": {},
     "output_type": "execute_result"
    }
   ],
   "source": [
    "cv.get_feature_names_out"
   ]
  },
  {
   "cell_type": "code",
   "execution_count": 29,
   "id": "4ba6cc53",
   "metadata": {},
   "outputs": [],
   "source": [
    "import nltk\n",
    "from nltk.stem.porter import PorterStemmer\n",
    "ps = PorterStemmer()"
   ]
  },
  {
   "cell_type": "code",
   "execution_count": 30,
   "id": "4fbdb84c",
   "metadata": {},
   "outputs": [],
   "source": [
    "# !pip3 uninstall scikit-learn\n",
    "# !pip3 install --upgrade nltk"
   ]
  },
  {
   "cell_type": "code",
   "execution_count": 31,
   "id": "4179799c",
   "metadata": {},
   "outputs": [],
   "source": [
    "# !pip3 list"
   ]
  },
  {
   "cell_type": "code",
   "execution_count": 32,
   "id": "8bc2e7ca",
   "metadata": {},
   "outputs": [],
   "source": [
    "def stem(text):\n",
    "    y=[]\n",
    "    for i in text.split():\n",
    "        y.append(ps.stem(i))\n",
    "    return \" \".join(y)"
   ]
  },
  {
   "cell_type": "code",
   "execution_count": 33,
   "id": "87b3b066",
   "metadata": {},
   "outputs": [
    {
     "data": {
      "text/plain": [
       "'sucsses'"
      ]
     },
     "execution_count": 33,
     "metadata": {},
     "output_type": "execute_result"
    }
   ],
   "source": [
    "ps.stem('sucssesfully')"
   ]
  },
  {
   "cell_type": "code",
   "execution_count": 34,
   "id": "23d690d6",
   "metadata": {},
   "outputs": [
    {
     "data": {
      "text/plain": [
       "'foreman, john tech data_sci wiley'"
      ]
     },
     "execution_count": 34,
     "metadata": {},
     "output_type": "execute_result"
    }
   ],
   "source": [
    "stem('foreman, john tech data_science wiley')"
   ]
  },
  {
   "cell_type": "code",
   "execution_count": 35,
   "id": "af40cf4f",
   "metadata": {},
   "outputs": [
    {
     "data": {
      "text/plain": [
       "<bound method Series.apply of 0          goswami, jaideva tech signal_processing wiley\n",
       "1                  foreman, john tech data_science wiley\n",
       "2              hawking, stephen tech mathematics penguin\n",
       "3        dubner, stephen science economics harpercollins\n",
       "4                said, edward nonfiction history penguin\n",
       "                             ...                        \n",
       "114              sen, amartya science economics springer\n",
       "115    huntington, samuel nonfiction history simon&sc...\n",
       "116          capra, fritjof nonfiction anthology fontana\n",
       "117          bach, richard nonfiction autobiography dell\n",
       "119                  braithwaite fiction classic penguin\n",
       "Name: tags, Length: 112, dtype: object>"
      ]
     },
     "execution_count": 35,
     "metadata": {},
     "output_type": "execute_result"
    }
   ],
   "source": [
    "df['tags'].apply"
   ]
  },
  {
   "cell_type": "code",
   "execution_count": 36,
   "id": "a7a6f61e",
   "metadata": {},
   "outputs": [],
   "source": [
    "from sklearn.metrics.pairwise import cosine_similarity"
   ]
  },
  {
   "cell_type": "code",
   "execution_count": 37,
   "id": "9ad4cd00",
   "metadata": {},
   "outputs": [],
   "source": [
    "similarity = cosine_similarity(vectors)"
   ]
  },
  {
   "cell_type": "code",
   "execution_count": 38,
   "id": "cf10d10c",
   "metadata": {},
   "outputs": [
    {
     "data": {
      "text/plain": [
       "array([[1.       , 0.4      , 0.2      , ..., 0.       , 0.       ,\n",
       "        0.       ],\n",
       "       [0.4      , 1.       , 0.2      , ..., 0.       , 0.       ,\n",
       "        0.       ],\n",
       "       [0.2      , 0.2      , 1.       , ..., 0.       , 0.       ,\n",
       "        0.2236068],\n",
       "       ...,\n",
       "       [0.       , 0.       , 0.       , ..., 1.       , 0.2      ,\n",
       "        0.       ],\n",
       "       [0.       , 0.       , 0.       , ..., 0.2      , 1.       ,\n",
       "        0.       ],\n",
       "       [0.       , 0.       , 0.2236068, ..., 0.       , 0.       ,\n",
       "        1.       ]])"
      ]
     },
     "execution_count": 38,
     "metadata": {},
     "output_type": "execute_result"
    }
   ],
   "source": [
    "similarity"
   ]
  },
  {
   "cell_type": "code",
   "execution_count": 39,
   "id": "cde24118",
   "metadata": {},
   "outputs": [
    {
     "data": {
      "text/plain": [
       "(112, 112)"
      ]
     },
     "execution_count": 39,
     "metadata": {},
     "output_type": "execute_result"
    }
   ],
   "source": [
    "similarity.shape"
   ]
  },
  {
   "cell_type": "code",
   "execution_count": 40,
   "id": "e056a647",
   "metadata": {},
   "outputs": [
    {
     "data": {
      "text/plain": [
       "array([1.        , 0.4       , 0.2       , 0.        , 0.        ,\n",
       "       0.2       , 0.        , 0.        , 0.4       , 0.        ,\n",
       "       0.2       , 0.        , 0.        , 0.18257419, 0.        ,\n",
       "       0.        , 0.18257419, 0.2       , 0.        , 0.        ,\n",
       "       0.2       , 0.2       , 0.2       , 0.2       , 0.2       ,\n",
       "       0.18257419, 0.        , 0.        , 0.        , 0.        ,\n",
       "       0.        , 0.        , 0.        , 0.        , 0.        ,\n",
       "       0.        , 0.        , 0.        , 0.        , 0.        ,\n",
       "       0.        , 0.        , 0.        , 0.        , 0.        ,\n",
       "       0.        , 0.        , 0.        , 0.        , 0.        ,\n",
       "       0.        , 0.        , 0.        , 0.        , 0.        ,\n",
       "       0.2       , 0.2       , 0.2236068 , 0.4       , 0.18257419,\n",
       "       0.4       , 0.4       , 0.18257419, 0.        , 0.        ,\n",
       "       0.        , 0.        , 0.        , 0.        , 0.        ,\n",
       "       0.        , 0.        , 0.        , 0.        , 0.        ,\n",
       "       0.2236068 , 0.        , 0.        , 0.        , 0.        ,\n",
       "       0.        , 0.        , 0.        , 0.        , 0.        ,\n",
       "       0.        , 0.        , 0.        , 0.        , 0.        ,\n",
       "       0.        , 0.        , 0.        , 0.        , 0.        ,\n",
       "       0.        , 0.        , 0.        , 0.        , 0.        ,\n",
       "       0.        , 0.        , 0.        , 0.        , 0.        ,\n",
       "       0.        , 0.        , 0.        , 0.        , 0.        ,\n",
       "       0.        , 0.        ])"
      ]
     },
     "execution_count": 40,
     "metadata": {},
     "output_type": "execute_result"
    }
   ],
   "source": [
    "similarity[0]"
   ]
  },
  {
   "cell_type": "code",
   "execution_count": 41,
   "id": "e8eb350b",
   "metadata": {},
   "outputs": [
    {
     "data": {
      "text/plain": [
       "[0.9999999999999999,\n",
       " 0.39999999999999997,\n",
       " 0.39999999999999997,\n",
       " 0.39999999999999997,\n",
       " 0.39999999999999997,\n",
       " 0.39999999999999997,\n",
       " 0.22360679774997896,\n",
       " 0.22360679774997896,\n",
       " 0.19999999999999998,\n",
       " 0.19999999999999998,\n",
       " 0.19999999999999998,\n",
       " 0.19999999999999998,\n",
       " 0.19999999999999998,\n",
       " 0.19999999999999998,\n",
       " 0.19999999999999998,\n",
       " 0.19999999999999998,\n",
       " 0.19999999999999998,\n",
       " 0.19999999999999998,\n",
       " 0.19999999999999998,\n",
       " 0.18257418583505539,\n",
       " 0.18257418583505539,\n",
       " 0.18257418583505539,\n",
       " 0.18257418583505539,\n",
       " 0.18257418583505539,\n",
       " 0.0,\n",
       " 0.0,\n",
       " 0.0,\n",
       " 0.0,\n",
       " 0.0,\n",
       " 0.0,\n",
       " 0.0,\n",
       " 0.0,\n",
       " 0.0,\n",
       " 0.0,\n",
       " 0.0,\n",
       " 0.0,\n",
       " 0.0,\n",
       " 0.0,\n",
       " 0.0,\n",
       " 0.0,\n",
       " 0.0,\n",
       " 0.0,\n",
       " 0.0,\n",
       " 0.0,\n",
       " 0.0,\n",
       " 0.0,\n",
       " 0.0,\n",
       " 0.0,\n",
       " 0.0,\n",
       " 0.0,\n",
       " 0.0,\n",
       " 0.0,\n",
       " 0.0,\n",
       " 0.0,\n",
       " 0.0,\n",
       " 0.0,\n",
       " 0.0,\n",
       " 0.0,\n",
       " 0.0,\n",
       " 0.0,\n",
       " 0.0,\n",
       " 0.0,\n",
       " 0.0,\n",
       " 0.0,\n",
       " 0.0,\n",
       " 0.0,\n",
       " 0.0,\n",
       " 0.0,\n",
       " 0.0,\n",
       " 0.0,\n",
       " 0.0,\n",
       " 0.0,\n",
       " 0.0,\n",
       " 0.0,\n",
       " 0.0,\n",
       " 0.0,\n",
       " 0.0,\n",
       " 0.0,\n",
       " 0.0,\n",
       " 0.0,\n",
       " 0.0,\n",
       " 0.0,\n",
       " 0.0,\n",
       " 0.0,\n",
       " 0.0,\n",
       " 0.0,\n",
       " 0.0,\n",
       " 0.0,\n",
       " 0.0,\n",
       " 0.0,\n",
       " 0.0,\n",
       " 0.0,\n",
       " 0.0,\n",
       " 0.0,\n",
       " 0.0,\n",
       " 0.0,\n",
       " 0.0,\n",
       " 0.0,\n",
       " 0.0,\n",
       " 0.0,\n",
       " 0.0,\n",
       " 0.0,\n",
       " 0.0,\n",
       " 0.0,\n",
       " 0.0,\n",
       " 0.0,\n",
       " 0.0,\n",
       " 0.0,\n",
       " 0.0,\n",
       " 0.0,\n",
       " 0.0,\n",
       " 0.0]"
      ]
     },
     "execution_count": 41,
     "metadata": {},
     "output_type": "execute_result"
    }
   ],
   "source": [
    "sorted(similarity[0], reverse=True)"
   ]
  },
  {
   "cell_type": "code",
   "execution_count": 42,
   "id": "92786fbf",
   "metadata": {},
   "outputs": [
    {
     "data": {
      "text/plain": [
       "[(1, 0.39999999999999997),\n",
       " (8, 0.39999999999999997),\n",
       " (58, 0.39999999999999997),\n",
       " (60, 0.39999999999999997),\n",
       " (61, 0.39999999999999997)]"
      ]
     },
     "execution_count": 42,
     "metadata": {},
     "output_type": "execute_result"
    }
   ],
   "source": [
    "sorted(list(enumerate(similarity[0])), reverse=True, key= lambda x:x[1])[1:6]"
   ]
  },
  {
   "cell_type": "code",
   "execution_count": 43,
   "id": "2d856329",
   "metadata": {},
   "outputs": [],
   "source": [
    "def recommend(book):\n",
    "    book_index = df[df['Title'] == book].index[0]\n",
    "    distances = similarity[book_index]\n",
    "    books_list = sorted(list(enumerate(distances)), reverse=True, key= lambda x:x[1])[1:6]\n",
    "    \n",
    "    for i in books_list:\n",
    "        print(df.iloc[i[0]].Title)"
   ]
  },
  {
   "cell_type": "code",
   "execution_count": 44,
   "id": "6fcba2c8",
   "metadata": {},
   "outputs": [
    {
     "name": "stdout",
     "output_type": "stream",
     "text": [
      "Drunkard's Walk, The\n",
      "Analysis, Vol I\n",
      "Signal and the Noise, The\n",
      "Freakonomics\n",
      "Theory of Everything, The\n"
     ]
    }
   ],
   "source": [
    "recommend('God Created the Integers')"
   ]
  },
  {
   "cell_type": "code",
   "execution_count": null,
   "id": "4ee60e1d",
   "metadata": {},
   "outputs": [],
   "source": []
  }
 ],
 "metadata": {
  "kernelspec": {
   "display_name": "Python 3 (ipykernel)",
   "language": "python",
   "name": "python3"
  },
  "language_info": {
   "codemirror_mode": {
    "name": "ipython",
    "version": 3
   },
   "file_extension": ".py",
   "mimetype": "text/x-python",
   "name": "python",
   "nbconvert_exporter": "python",
   "pygments_lexer": "ipython3",
   "version": "3.9.13"
  }
 },
 "nbformat": 4,
 "nbformat_minor": 5
}
